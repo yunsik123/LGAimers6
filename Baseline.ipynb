{
 "cells": [
  {
   "cell_type": "code",
   "execution_count": 2,
   "id": "45462fe5-061f-40ca-a824-efc612384c35",
   "metadata": {
    "executionInfo": {
     "elapsed": 42,
     "status": "ok",
     "timestamp": 1740379442630,
     "user": {
      "displayName": "아아",
      "userId": "02217205104392261220"
     },
     "user_tz": -540
    },
    "id": "45462fe5-061f-40ca-a824-efc612384c35"
   },
   "outputs": [],
   "source": [
    "import pandas as pd\n",
    "import numpy as np\n",
    "import matplotlib.pyplot as plt\n",
    "import seaborn as sns\n",
    "\n",
    "from sklearn.preprocessing import OneHotEncoder\n",
    "from sklearn.model_selection import cross_val_score,StratifiedKFold , GridSearchCV,train_test_split\n",
    "from sklearn.metrics import make_scorer\n",
    "from lightgbm import LGBMClassifier\n",
    "from lightgbm.callback import early_stopping  # ✅ Import 추가\n",
    "import optuna"
   ]
  },
  {
   "cell_type": "code",
   "execution_count": 3,
   "id": "90236795-051d-4b01-8366-a064f784a2f6",
   "metadata": {
    "executionInfo": {
     "elapsed": 4812,
     "status": "ok",
     "timestamp": 1740379224086,
     "user": {
      "displayName": "아아",
      "userId": "02217205104392261220"
     },
     "user_tz": -540
    },
    "id": "90236795-051d-4b01-8366-a064f784a2f6"
   },
   "outputs": [],
   "source": [
    "train = pd.read_csv('train.csv').drop(columns=['ID'])\n",
    "test = pd.read_csv('test.csv').drop(columns=['ID'])"
   ]
  },
  {
   "cell_type": "code",
   "execution_count": 4,
   "id": "1541ae26-628d-4f0f-9fde-3223bd03853a",
   "metadata": {
    "executionInfo": {
     "elapsed": 157,
     "status": "ok",
     "timestamp": 1740379224244,
     "user": {
      "displayName": "아아",
      "userId": "02217205104392261220"
     },
     "user_tz": -540
    },
    "id": "1541ae26-628d-4f0f-9fde-3223bd03853a"
   },
   "outputs": [],
   "source": [
    "X = train.drop('임신 성공 여부', axis=1)\n",
    "y = train['임신 성공 여부']\n",
    "X = X.drop(columns=['임신 시도 또는 마지막 임신 경과 연수', '착상 전 유전 검사 사용 여부', 'PGD 시술 여부','PGS 시술 여부','난자 해동 경과일','배아 해동 경과일',\"난자 채취 경과일\"])\n",
    "test = test.drop(columns=['임신 시도 또는 마지막 임신 경과 연수', '착상 전 유전 검사 사용 여부', 'PGD 시술 여부','PGS 시술 여부','난자 해동 경과일','배아 해동 경과일',\"난자 채취 경과일\"])\n",
    "#임신 시도 또는 마지막 임신 경과 연수 열 삭제\n",
    "#착상 전 유전 검사 사용 여부 삭제\n",
    "#PGD 시술 여부 삭제\n",
    "#PGS 시술 여부 삭제\n",
    "#난자 해동 경과일 삭제\n",
    "#배아 해동 경과일 삭제\n",
    "\n"
   ]
  },
  {
   "cell_type": "code",
   "execution_count": 5,
   "id": "d63c88c4-6e2d-4348-9a4f-d5bb62a6c25c",
   "metadata": {
    "executionInfo": {
     "elapsed": 5016,
     "status": "ok",
     "timestamp": 1740379229261,
     "user": {
      "displayName": "아아",
      "userId": "02217205104392261220"
     },
     "user_tz": -540
    },
    "id": "d63c88c4-6e2d-4348-9a4f-d5bb62a6c25c"
   },
   "outputs": [],
   "source": [
    "categorical_columns = [\n",
    "    \"시술 시기 코드\",\n",
    "    \"시술 당시 나이\",\n",
    "    \"시술 유형\",\n",
    "    \"특정 시술 유형\",\n",
    "    \"배란 자극 여부\",\n",
    "    \"배란 유도 유형\",\n",
    "    \"단일 배아 이식 여부\",\n",
    "    \"착상 전 유전 진단 사용 여부\",\n",
    "    \"남성 주 불임 원인\",\n",
    "    \"남성 부 불임 원인\",\n",
    "    \"여성 주 불임 원인\",\n",
    "    \"여성 부 불임 원인\",\n",
    "    \"부부 주 불임 원인\",\n",
    "    \"부부 부 불임 원인\",\n",
    "    \"불명확 불임 원인\",\n",
    "    \"불임 원인 - 난관 질환\",\n",
    "    \"불임 원인 - 남성 요인\",\n",
    "    \"불임 원인 - 배란 장애\",\n",
    "    \"불임 원인 - 여성 요인\",\n",
    "    \"불임 원인 - 자궁경부 문제\",\n",
    "    \"불임 원인 - 자궁내막증\",\n",
    "    \"불임 원인 - 정자 농도\",\n",
    "    \"불임 원인 - 정자 면역학적 요인\",\n",
    "    \"불임 원인 - 정자 운동성\",\n",
    "    \"불임 원인 - 정자 형태\",\n",
    "    \"배아 생성 주요 이유\",\n",
    "    \"총 시술 횟수\",\n",
    "    \"클리닉 내 총 시술 횟수\",\n",
    "    \"IVF 시술 횟수\",\n",
    "    \"DI 시술 횟수\",\n",
    "    \"총 임신 횟수\",\n",
    "    \"IVF 임신 횟수\",\n",
    "    \"DI 임신 횟수\",\n",
    "    \"총 출산 횟수\",\n",
    "    \"IVF 출산 횟수\",\n",
    "    \"DI 출산 횟수\",\n",
    "    \"난자 출처\",\n",
    "    \"정자 출처\",\n",
    "    \"난자 기증자 나이\",\n",
    "    \"정자 기증자 나이\",\n",
    "    \"동결 배아 사용 여부\",\n",
    "    \"신선 배아 사용 여부\",\n",
    "    \"기증 배아 사용 여부\",\n",
    "    \"대리모 여부\"\n",
    "]\n",
    "\n",
    "# One-Hot Encoder 초기화\n",
    "onehot_encoder = OneHotEncoder(handle_unknown='ignore', sparse_output=False)\n",
    "\n",
    "# 인코딩 적용\n",
    "X_train_encoded = onehot_encoder.fit_transform(X[categorical_columns])\n",
    "X_test_encoded = onehot_encoder.transform(test[categorical_columns])\n",
    "\n",
    "# 인코딩된 데이터를 데이터프레임으로 변환\n",
    "X_train_encoded = pd.DataFrame(X_train_encoded, columns=onehot_encoder.get_feature_names_out(categorical_columns))\n",
    "X_test_encoded = pd.DataFrame(X_test_encoded, columns=onehot_encoder.get_feature_names_out(categorical_columns))\n",
    "\n",
    "# 기존 데이터프레임과 결합\n",
    "X_train_encoded = pd.concat([X.drop(columns=categorical_columns).reset_index(drop=True), X_train_encoded], axis=1)\n",
    "X_test_encoded = pd.concat([test.drop(columns=categorical_columns).reset_index(drop=True), X_test_encoded], axis=1)\n",
    "\n",
    "#인코딩할 때 결측치도 그냥 인코딩해줌"
   ]
  },
  {
   "cell_type": "code",
   "execution_count": 6,
   "id": "c96ec30c-12aa-4411-a173-8ca3ebc6c40f",
   "metadata": {
    "executionInfo": {
     "elapsed": 2,
     "status": "ok",
     "timestamp": 1740379229271,
     "user": {
      "displayName": "아아",
      "userId": "02217205104392261220"
     },
     "user_tz": -540
    },
    "id": "c96ec30c-12aa-4411-a173-8ca3ebc6c40f"
   },
   "outputs": [
    {
     "ename": "KeyError",
     "evalue": "\"None of [Index(['총 생성 배아 수', '미세주입된 난자 수', '미세주입에서 생성된 배아 수', '이식된 배아 수',\\n       '미세주입 배아 이식 수', '저장된 배아 수', '미세주입 후 저장된 배아 수', '해동된 배아 수', '해동 난자 수',\\n       '수집된 신선 난자 수', '저장된 신선 난자 수', '혼합된 난자 수', '파트너 정자와 혼합된 난자 수',\\n       '기증자 정자와 혼합된 난자 수', '난자 혼합 경과일', '배아 이식 경과일'],\\n      dtype='object')] are in the [columns]\"",
     "output_type": "error",
     "traceback": [
      "\u001b[0;31m---------------------------------------------------------------------------\u001b[0m",
      "\u001b[0;31mKeyError\u001b[0m                                  Traceback (most recent call last)",
      "Cell \u001b[0;32mIn[6], line 25\u001b[0m\n\u001b[1;32m     23\u001b[0m X_test_encoded\u001b[38;5;241m.\u001b[39mcolumns \u001b[38;5;241m=\u001b[39m X_test_encoded\u001b[38;5;241m.\u001b[39mcolumns\u001b[38;5;241m.\u001b[39mstr\u001b[38;5;241m.\u001b[39mreplace(\u001b[38;5;124m\"\u001b[39m\u001b[38;5;124m \u001b[39m\u001b[38;5;124m\"\u001b[39m, \u001b[38;5;124m\"\u001b[39m\u001b[38;5;124m_\u001b[39m\u001b[38;5;124m\"\u001b[39m)\n\u001b[1;32m     24\u001b[0m \u001b[38;5;66;03m#끝에 두 변수에 결측치 존재\u001b[39;00m\n\u001b[0;32m---> 25\u001b[0m X_train_encoded[numeric_columns] \u001b[38;5;241m=\u001b[39m \u001b[43mX_train_encoded\u001b[49m\u001b[43m[\u001b[49m\u001b[43mnumeric_columns\u001b[49m\u001b[43m]\u001b[49m\u001b[38;5;241m.\u001b[39mfillna(\u001b[38;5;241m0\u001b[39m)\n\u001b[1;32m     26\u001b[0m X_test_encoded[numeric_columns] \u001b[38;5;241m=\u001b[39m X_test_encoded[numeric_columns]\u001b[38;5;241m.\u001b[39mfillna(\u001b[38;5;241m0\u001b[39m)\n\u001b[1;32m     27\u001b[0m y\u001b[38;5;241m=\u001b[39my\u001b[38;5;241m.\u001b[39mfillna(\u001b[38;5;241m0\u001b[39m)\n",
      "File \u001b[0;32m~/.local/lib/python3.10/site-packages/pandas/core/frame.py:4108\u001b[0m, in \u001b[0;36mDataFrame.__getitem__\u001b[0;34m(self, key)\u001b[0m\n\u001b[1;32m   4106\u001b[0m     \u001b[38;5;28;01mif\u001b[39;00m is_iterator(key):\n\u001b[1;32m   4107\u001b[0m         key \u001b[38;5;241m=\u001b[39m \u001b[38;5;28mlist\u001b[39m(key)\n\u001b[0;32m-> 4108\u001b[0m     indexer \u001b[38;5;241m=\u001b[39m \u001b[38;5;28;43mself\u001b[39;49m\u001b[38;5;241;43m.\u001b[39;49m\u001b[43mcolumns\u001b[49m\u001b[38;5;241;43m.\u001b[39;49m\u001b[43m_get_indexer_strict\u001b[49m\u001b[43m(\u001b[49m\u001b[43mkey\u001b[49m\u001b[43m,\u001b[49m\u001b[43m \u001b[49m\u001b[38;5;124;43m\"\u001b[39;49m\u001b[38;5;124;43mcolumns\u001b[39;49m\u001b[38;5;124;43m\"\u001b[39;49m\u001b[43m)\u001b[49m[\u001b[38;5;241m1\u001b[39m]\n\u001b[1;32m   4110\u001b[0m \u001b[38;5;66;03m# take() does not accept boolean indexers\u001b[39;00m\n\u001b[1;32m   4111\u001b[0m \u001b[38;5;28;01mif\u001b[39;00m \u001b[38;5;28mgetattr\u001b[39m(indexer, \u001b[38;5;124m\"\u001b[39m\u001b[38;5;124mdtype\u001b[39m\u001b[38;5;124m\"\u001b[39m, \u001b[38;5;28;01mNone\u001b[39;00m) \u001b[38;5;241m==\u001b[39m \u001b[38;5;28mbool\u001b[39m:\n",
      "File \u001b[0;32m~/.local/lib/python3.10/site-packages/pandas/core/indexes/base.py:6200\u001b[0m, in \u001b[0;36mIndex._get_indexer_strict\u001b[0;34m(self, key, axis_name)\u001b[0m\n\u001b[1;32m   6197\u001b[0m \u001b[38;5;28;01melse\u001b[39;00m:\n\u001b[1;32m   6198\u001b[0m     keyarr, indexer, new_indexer \u001b[38;5;241m=\u001b[39m \u001b[38;5;28mself\u001b[39m\u001b[38;5;241m.\u001b[39m_reindex_non_unique(keyarr)\n\u001b[0;32m-> 6200\u001b[0m \u001b[38;5;28;43mself\u001b[39;49m\u001b[38;5;241;43m.\u001b[39;49m\u001b[43m_raise_if_missing\u001b[49m\u001b[43m(\u001b[49m\u001b[43mkeyarr\u001b[49m\u001b[43m,\u001b[49m\u001b[43m \u001b[49m\u001b[43mindexer\u001b[49m\u001b[43m,\u001b[49m\u001b[43m \u001b[49m\u001b[43maxis_name\u001b[49m\u001b[43m)\u001b[49m\n\u001b[1;32m   6202\u001b[0m keyarr \u001b[38;5;241m=\u001b[39m \u001b[38;5;28mself\u001b[39m\u001b[38;5;241m.\u001b[39mtake(indexer)\n\u001b[1;32m   6203\u001b[0m \u001b[38;5;28;01mif\u001b[39;00m \u001b[38;5;28misinstance\u001b[39m(key, Index):\n\u001b[1;32m   6204\u001b[0m     \u001b[38;5;66;03m# GH 42790 - Preserve name from an Index\u001b[39;00m\n",
      "File \u001b[0;32m~/.local/lib/python3.10/site-packages/pandas/core/indexes/base.py:6249\u001b[0m, in \u001b[0;36mIndex._raise_if_missing\u001b[0;34m(self, key, indexer, axis_name)\u001b[0m\n\u001b[1;32m   6247\u001b[0m \u001b[38;5;28;01mif\u001b[39;00m nmissing:\n\u001b[1;32m   6248\u001b[0m     \u001b[38;5;28;01mif\u001b[39;00m nmissing \u001b[38;5;241m==\u001b[39m \u001b[38;5;28mlen\u001b[39m(indexer):\n\u001b[0;32m-> 6249\u001b[0m         \u001b[38;5;28;01mraise\u001b[39;00m \u001b[38;5;167;01mKeyError\u001b[39;00m(\u001b[38;5;124mf\u001b[39m\u001b[38;5;124m\"\u001b[39m\u001b[38;5;124mNone of [\u001b[39m\u001b[38;5;132;01m{\u001b[39;00mkey\u001b[38;5;132;01m}\u001b[39;00m\u001b[38;5;124m] are in the [\u001b[39m\u001b[38;5;132;01m{\u001b[39;00maxis_name\u001b[38;5;132;01m}\u001b[39;00m\u001b[38;5;124m]\u001b[39m\u001b[38;5;124m\"\u001b[39m)\n\u001b[1;32m   6251\u001b[0m     not_found \u001b[38;5;241m=\u001b[39m \u001b[38;5;28mlist\u001b[39m(ensure_index(key)[missing_mask\u001b[38;5;241m.\u001b[39mnonzero()[\u001b[38;5;241m0\u001b[39m]]\u001b[38;5;241m.\u001b[39munique())\n\u001b[1;32m   6252\u001b[0m     \u001b[38;5;28;01mraise\u001b[39;00m \u001b[38;5;167;01mKeyError\u001b[39;00m(\u001b[38;5;124mf\u001b[39m\u001b[38;5;124m\"\u001b[39m\u001b[38;5;132;01m{\u001b[39;00mnot_found\u001b[38;5;132;01m}\u001b[39;00m\u001b[38;5;124m not in index\u001b[39m\u001b[38;5;124m\"\u001b[39m)\n",
      "\u001b[0;31mKeyError\u001b[0m: \"None of [Index(['총 생성 배아 수', '미세주입된 난자 수', '미세주입에서 생성된 배아 수', '이식된 배아 수',\\n       '미세주입 배아 이식 수', '저장된 배아 수', '미세주입 후 저장된 배아 수', '해동된 배아 수', '해동 난자 수',\\n       '수집된 신선 난자 수', '저장된 신선 난자 수', '혼합된 난자 수', '파트너 정자와 혼합된 난자 수',\\n       '기증자 정자와 혼합된 난자 수', '난자 혼합 경과일', '배아 이식 경과일'],\\n      dtype='object')] are in the [columns]\""
     ]
    }
   ],
   "source": [
    "numeric_columns = [\n",
    "    \"총 생성 배아 수\",\n",
    "    \"미세주입된 난자 수\",\n",
    "    \"미세주입에서 생성된 배아 수\",\n",
    "    \"이식된 배아 수\",\n",
    "    \"미세주입 배아 이식 수\",\n",
    "    \"저장된 배아 수\",\n",
    "    \"미세주입 후 저장된 배아 수\",\n",
    "    \"해동된 배아 수\",\n",
    "    \"해동 난자 수\",\n",
    "    \"수집된 신선 난자 수\",\n",
    "    \"저장된 신선 난자 수\",\n",
    "    \"혼합된 난자 수\",\n",
    "    \"파트너 정자와 혼합된 난자 수\",\n",
    "    \"기증자 정자와 혼합된 난자 수\",\n",
    "    \"난자 혼합 경과일\",\n",
    "    \"배아 이식 경과일\",\n",
    "]\n",
    "\n",
    "X_train_encoded.columns = X_train_encoded.columns.str.replace(r'[\\[\\]{}\":,]', '', regex=True)\n",
    "X_test_encoded.columns = X_test_encoded.columns.str.replace(r'[\\[\\]{}\":,]', '', regex=True)\n",
    "X_train_encoded.columns = X_train_encoded.columns.str.replace(\" \", \"_\")\n",
    "X_test_encoded.columns = X_test_encoded.columns.str.replace(\" \", \"_\")\n",
    "#끝에 두 변수에 결측치 존재\n",
    "X_train_encoded[numeric_columns] = X_train_encoded[numeric_columns].fillna(0)\n",
    "X_test_encoded[numeric_columns] = X_test_encoded[numeric_columns].fillna(0)\n",
    "y=y.fillna(0)"
   ]
  },
  {
   "cell_type": "code",
   "execution_count": null,
   "id": "zi-jtZ0jrTjw",
   "metadata": {
    "colab": {
     "base_uri": "https://localhost:8080/"
    },
    "id": "zi-jtZ0jrTjw",
    "outputId": "036b2107-5a03-4def-af5f-3097761832e5"
   },
   "outputs": [],
   "source": [
    "import optuna\n",
    "import numpy as np\n",
    "import pandas as pd\n",
    "from lightgbm import LGBMClassifier\n",
    "from sklearn.model_selection import train_test_split, StratifiedKFold\n",
    "from sklearn.metrics import roc_auc_score\n",
    "\n",
    "# 데이터 분할\n",
    "X_train, X_test, y_train, y_test = train_test_split(X_train_encoded, y, test_size=0.2, stratify=y, random_state=42)\n",
    "\n",
    "# Stratified K-Fold 설정\n",
    "skf = StratifiedKFold(n_splits=5, shuffle=True, random_state=101)\n",
    "\n",
    "# Optuna 최적화 함수 정의\n",
    "def objective(trial):\n",
    "    params = {\n",
    "        'objective': 'binary',\n",
    "        'metric': 'auc',\n",
    "        'num_leaves': trial.suggest_int('num_leaves', 10, 100),\n",
    "        'learning_rate': trial.suggest_float('learning_rate', 0.01, 0.3, log=True),\n",
    "        'n_estimators': 100,  # 최대한 크게 설정하고 early_stopping으로 조기 종료\n",
    "        'max_depth': trial.suggest_int('max_depth', 3, 15),\n",
    "        'min_child_samples': trial.suggest_int('min_child_samples', 5, 50),\n",
    "        'subsample': trial.suggest_float('subsample', 0.5, 1.0),\n",
    "        'colsample_bytree': trial.suggest_float('colsample_bytree', 0.5, 1.0)\n",
    "    }\n",
    "\n",
    "    roc_auc_scores = []\n",
    "\n",
    "    # K-Fold 교차검증 수행\n",
    "    for train_idx, valid_idx in skf.split(X_train, y_train):\n",
    "        # DataFrame이므로 .iloc을 사용\n",
    "        X_tr, X_val = X_train.iloc[train_idx], X_train.iloc[valid_idx]\n",
    "        y_tr, y_val = y_train.iloc[train_idx], y_train.iloc[valid_idx]\n",
    "\n",
    "        # 모델 생성\n",
    "        model = LGBMClassifier(class_weight=\"balanced\", random_state=101, **params)\n",
    "\n",
    "        # 조기 종료(Early Stopping) 적용\n",
    "        model.fit(\n",
    "            X_tr, y_tr,\n",
    "            eval_set=[(X_val, y_val)],\n",
    "            eval_metric=\"auc\",\n",
    "            callbacks=[early_stopping(20)]\n",
    "        )\n",
    "\n",
    "        # 검증 AUC 계산\n",
    "        y_val_pred = model.predict_proba(X_val)[:, 1]\n",
    "        roc_auc_scores.append(roc_auc_score(y_val, y_val_pred))\n",
    "\n",
    "    return np.mean(roc_auc_scores)  # 평균 ROC-AUC 반환\n",
    "\n",
    "# Optuna 실행\n",
    "study = optuna.create_study(direction='maximize')\n",
    "study.optimize(objective, n_trials=100)\n",
    "\n",
    "# 최적의 하이퍼파라미터 출력\n",
    "print(\"최적의 하이퍼파라미터:\", study.best_params)\n",
    "\n",
    "# 최적의 모델 생성 및 평가\n",
    "best_params = study.best_params\n",
    "best_model = LGBMClassifier(class_weight=\"balanced\", random_state=101, **best_params)\n",
    "best_model.fit(X_train, y_train)\n",
    "\n",
    "y_pred_proba = best_model.predict_proba(X_test)[:, 1]\n",
    "\n",
    "# 최종 ROC-AUC 점수 출력\n",
    "final_auc = roc_auc_score(y_test, y_pred_proba)\n",
    "print(\"테스트 데이터 ROC-AUC:\", final_auc)\n"
   ]
  },
  {
   "cell_type": "code",
   "execution_count": 7,
   "id": "a37b44e7-47a6-4f12-9122-eaac5babc002",
   "metadata": {
    "colab": {
     "base_uri": "https://localhost:8080/",
     "height": 225
    },
    "executionInfo": {
     "elapsed": 9820,
     "status": "ok",
     "timestamp": 1740377449198,
     "user": {
      "displayName": "아아",
      "userId": "02217205104392261220"
     },
     "user_tz": -540
    },
    "id": "a37b44e7-47a6-4f12-9122-eaac5babc002",
    "outputId": "50b66788-8b4e-4291-e9c7-c75259b00937",
    "scrolled": true
   },
   "outputs": [],
   "source": [
    "#model = LGBMClassifier(class_weight=\"balanced\", random_state=101)\n",
    "#model.fit(X_train_encoded, y)\n",
    "# Stratified K-Fold 설정 (클래스 비율 유지)\n",
    "#skf = StratifiedKFold(n_splits=5, shuffle=True, random_state=101)\n",
    "\n",
    "# 5-Fold 교차 검증 수행 (ROC-AUC 기준)\n",
    "#roc_auc_scores = cross_val_score(model, X_train_encoded, y, cv=skf, scoring=\"roc_auc\")\n",
    "\n",
    "# 결과 출력\n",
    "#print(\"각 Fold의 ROC-AUC:\", roc_auc_scores)\n",
    "#print(\"평균 ROC-AUC:\", roc_auc_scores.mean())"
   ]
  },
  {
   "cell_type": "code",
   "execution_count": 8,
   "id": "b27c458e-c588-4515-a8f8-9d07efd65ef7",
   "metadata": {
    "id": "b27c458e-c588-4515-a8f8-9d07efd65ef7"
   },
   "outputs": [
    {
     "ename": "NameError",
     "evalue": "name 'best_model' is not defined",
     "output_type": "error",
     "traceback": [
      "\u001b[0;31m---------------------------------------------------------------------------\u001b[0m",
      "\u001b[0;31mNameError\u001b[0m                                 Traceback (most recent call last)",
      "Cell \u001b[0;32mIn[8], line 1\u001b[0m\n\u001b[0;32m----> 1\u001b[0m pred_proba \u001b[38;5;241m=\u001b[39m \u001b[43mbest_model\u001b[49m\u001b[38;5;241m.\u001b[39mpredict_proba(X_test_encoded)[:, \u001b[38;5;241m1\u001b[39m]\n\u001b[1;32m      3\u001b[0m sample_submission \u001b[38;5;241m=\u001b[39m pd\u001b[38;5;241m.\u001b[39mread_csv(\u001b[38;5;124m'\u001b[39m\u001b[38;5;124msample_submission.csv\u001b[39m\u001b[38;5;124m'\u001b[39m)\n\u001b[1;32m      4\u001b[0m sample_submission[\u001b[38;5;124m'\u001b[39m\u001b[38;5;124mprobability\u001b[39m\u001b[38;5;124m'\u001b[39m] \u001b[38;5;241m=\u001b[39m pred_proba\n",
      "\u001b[0;31mNameError\u001b[0m: name 'best_model' is not defined"
     ]
    }
   ],
   "source": [
    "pred_proba = best_model.predict_proba(X_test_encoded)[:, 1]\n",
    "\n",
    "sample_submission = pd.read_csv('sample_submission.csv')\n",
    "sample_submission['probability'] = pred_proba\n",
    "\n",
    "sample_submission.to_csv('baseline_submit.csv', index=False)"
   ]
  },
  {
   "cell_type": "code",
   "execution_count": 12,
   "id": "cee2832f-bdc9-48d0-ae2d-c275fbd8f24e",
   "metadata": {},
   "outputs": [
    {
     "name": "stdout",
     "output_type": "stream",
     "text": [
      "Defaulting to user installation because normal site-packages is not writeable\n",
      "Requirement already satisfied: lightgbm in /home/controlmgr/.local/lib/python3.10/site-packages (4.6.0)\n",
      "Requirement already satisfied: numpy>=1.17.0 in /home/controlmgr/.local/lib/python3.10/site-packages (from lightgbm) (1.26.3)\n",
      "Requirement already satisfied: scipy in /home/controlmgr/.local/lib/python3.10/site-packages (from lightgbm) (1.13.0)\n",
      "Note: you may need to restart the kernel to use updated packages.\n"
     ]
    }
   ],
   "source": []
  },
  {
   "cell_type": "code",
   "execution_count": null,
   "id": "d4709a3e-ff8b-4279-8256-5d2107ffc816",
   "metadata": {},
   "outputs": [],
   "source": []
  }
 ],
 "metadata": {
  "colab": {
   "provenance": []
  },
  "kernelspec": {
   "display_name": "Python 3 (ipykernel)",
   "language": "python",
   "name": "python3"
  },
  "language_info": {
   "codemirror_mode": {
    "name": "ipython",
    "version": 3
   },
   "file_extension": ".py",
   "mimetype": "text/x-python",
   "name": "python",
   "nbconvert_exporter": "python",
   "pygments_lexer": "ipython3",
   "version": "3.10.12"
  }
 },
 "nbformat": 4,
 "nbformat_minor": 5
}
