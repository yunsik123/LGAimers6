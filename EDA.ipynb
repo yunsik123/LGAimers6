{
 "cells": [
  {
   "cell_type": "code",
   "execution_count": 22,
   "id": "d47d07e1-5ad1-4dae-83b8-4a4d7de9552f",
   "metadata": {},
   "outputs": [],
   "source": [
    "import polars as pl\n",
    "import plotly.express as px\n",
    "import plotly.graph_objects as go\n",
    "\n",
    "\n",
    "import pandas as pd"
   ]
  },
  {
   "cell_type": "code",
   "execution_count": 23,
   "id": "6d4020d4-141e-4218-8fda-b9f2f1fb2736",
   "metadata": {},
   "outputs": [],
   "source": [
    "df_train = pl.read_csv(\"open/train.csv\") "
   ]
  },
  {
   "cell_type": "code",
   "execution_count": 24,
   "id": "8eee2568-6a5e-44b8-bc63-b4850821b5e6",
   "metadata": {},
   "outputs": [
    {
     "name": "stdout",
     "output_type": "stream",
     "text": [
      "Rows: 3190\n",
      "Columns: 69\n",
      "$ ID                    <str> 'TRAIN_000000', 'TRAIN_000001', 'TRAIN_000002', 'TRAIN_000003', 'TRAIN_000004', 'TRAIN_000005', 'TRAIN_000006', 'TRAIN_000007', 'TRAIN_000008', 'TRAIN_000009'\n",
      "$ 시술 시기 코드              <str> 'TRZKPL', 'TRYBLT', 'TRVNRY', 'TRJXFG', 'TRVNRY', 'TRVNRY', 'TRJXFG', 'TRXQMD', 'TRYBLT', 'TRYBLT'\n",
      "$ 시술 당시 나이              <str> '만18-34세', '만45-50세', '만18-34세', '만35-37세', '만18-34세', '만38-39세', '만18-34세', '만40-42세', '만38-39세', '만18-34세'\n",
      "$ 임신 시도 또는 마지막 임신 경과 연수 <str> None, None, None, None, None, None, None, None, None, None\n",
      "$ 시술 유형                 <str> 'IVF', 'IVF', 'IVF', 'IVF', 'IVF', 'IVF', 'IVF', 'IVF', 'IVF', 'IVF'\n",
      "$ 특정 시술 유형              <str> 'ICSI', 'ICSI', 'IVF', 'ICSI', 'ICSI', 'ICSI', 'ICSI', 'IVF', 'IVF', 'IVF'\n",
      "$ 배란 자극 여부              <i64> 1, 0, 1, 1, 1, 1, 0, 1, 1, 1\n",
      "$ 배란 유도 유형              <str> '기록되지 않은 시행', '알 수 없음', '기록되지 않은 시행', '기록되지 않은 시행', '기록되지 않은 시행', '기록되지 않은 시행', '알 수 없음', '기록되지 않은 시행', '기록되지 않은 시행', '기록되지 않은 시행'\n",
      "$ 단일 배아 이식 여부           <f64> 0.0, 0.0, 0.0, 0.0, 0.0, 0.0, 1.0, 0.0, 0.0, 0.0\n",
      "$ 착상 전 유전 검사 사용 여부      <str> None, None, None, None, None, None, None, None, None, None\n",
      "$ 착상 전 유전 진단 사용 여부      <f64> 0.0, 0.0, 0.0, 0.0, 0.0, 0.0, 0.0, 0.0, 0.0, 0.0\n",
      "$ 남성 주 불임 원인            <i64> 0, 0, 0, 0, 0, 0, 0, 0, 0, 0\n",
      "$ 남성 부 불임 원인            <i64> 0, 0, 0, 0, 0, 0, 0, 0, 0, 0\n",
      "$ 여성 주 불임 원인            <i64> 0, 0, 0, 0, 0, 0, 0, 0, 0, 0\n",
      "$ 여성 부 불임 원인            <i64> 0, 0, 0, 0, 0, 0, 0, 0, 0, 0\n",
      "$ 부부 주 불임 원인            <i64> 0, 0, 0, 0, 0, 0, 0, 0, 0, 0\n",
      "$ 부부 부 불임 원인            <i64> 0, 0, 0, 0, 0, 0, 0, 0, 0, 0\n",
      "$ 불명확 불임 원인             <i64> 0, 0, 0, 0, 0, 0, 0, 1, 0, 1\n",
      "$ 불임 원인 - 난관 질환         <i64> 0, 0, 0, 0, 1, 1, 0, 0, 1, 0\n",
      "$ 불임 원인 - 남성 요인         <i64> 1, 0, 1, 1, 0, 0, 0, 0, 0, 0\n",
      "$ 불임 원인 - 배란 장애         <i64> 1, 0, 0, 0, 0, 0, 0, 0, 1, 0\n",
      "$ 불임 원인 - 여성 요인         <i64> 0, 0, 0, 0, 0, 0, 0, 0, 0, 0\n",
      "$ 불임 원인 - 자궁경부 문제       <i64> 0, 0, 0, 0, 0, 0, 0, 0, 0, 0\n",
      "$ 불임 원인 - 자궁내막증         <i64> 0, 0, 0, 0, 1, 1, 0, 0, 0, 0\n",
      "$ 불임 원인 - 정자 농도         <i64> 0, 0, 0, 0, 0, 0, 0, 0, 0, 0\n",
      "$ 불임 원인 - 정자 면역학적 요인    <i64> 0, 0, 0, 0, 0, 0, 0, 0, 0, 0\n",
      "$ 불임 원인 - 정자 운동성        <i64> 0, 0, 0, 0, 0, 0, 0, 0, 0, 0\n",
      "$ 불임 원인 - 정자 형태         <i64> 0, 0, 0, 0, 0, 0, 0, 0, 0, 0\n",
      "$ 배아 생성 주요 이유           <str> '현재 시술용', '현재 시술용', '현재 시술용', '현재 시술용', '현재 시술용', '현재 시술용', '현재 시술용', '현재 시술용', '현재 시술용', '현재 시술용'\n",
      "$ 총 시술 횟수               <str> '0회', '0회', '1회', '1회', '0회', '0회', '0회', '1회', '1회', '1회'\n",
      "$ 클리닉 내 총 시술 횟수         <str> '0회', '0회', '0회', '1회', '0회', '0회', '0회', '1회', '1회', '0회'\n",
      "$ IVF 시술 횟수             <str> '0회', '0회', '1회', '1회', '0회', '0회', '0회', '1회', '1회', '1회'\n",
      "$ DI 시술 횟수              <str> '0회', '0회', '0회', '0회', '0회', '0회', '0회', '0회', '0회', '0회'\n",
      "$ 총 임신 횟수               <str> '0회', '0회', '0회', '0회', '0회', '0회', '0회', '0회', '0회', '0회'\n",
      "$ IVF 임신 횟수             <str> '0회', '0회', '0회', '0회', '0회', '0회', '0회', '0회', '0회', '0회'\n",
      "$ DI 임신 횟수              <str> '0회', '0회', '0회', '0회', '0회', '0회', '0회', '0회', '0회', '0회'\n",
      "$ 총 출산 횟수               <str> '0회', '0회', '0회', '0회', '0회', '0회', '0회', '0회', '0회', '0회'\n",
      "$ IVF 출산 횟수             <str> '0회', '0회', '0회', '0회', '0회', '0회', '0회', '0회', '0회', '0회'\n",
      "$ DI 출산 횟수              <str> '0회', '0회', '0회', '0회', '0회', '0회', '0회', '0회', '0회', '0회'\n",
      "$ 총 생성 배아 수             <f64> 4.0, 0.0, 5.0, 0.0, 6.0, 3.0, 4.0, 12.0, 0.0, 2.0\n",
      "$ 미세주입된 난자 수            <f64> 5.0, 1.0, 0.0, 4.0, 6.0, 5.0, 4.0, 0.0, 0.0, 0.0\n",
      "$ 미세주입에서 생성된 배아 수       <f64> 4.0, 0.0, 0.0, 0.0, 6.0, 3.0, 4.0, 0.0, 0.0, 0.0\n",
      "$ 이식된 배아 수              <f64> 2.0, 0.0, 2.0, 0.0, 2.0, 2.0, 1.0, 2.0, 0.0, 2.0\n",
      "$ 미세주입 배아 이식 수          <f64> 2.0, 0.0, 0.0, 0.0, 2.0, 2.0, 1.0, 0.0, 0.0, 0.0\n",
      "$ 저장된 배아 수              <f64> 2.0, 0.0, 0.0, 0.0, 0.0, 0.0, 3.0, 0.0, 0.0, 0.0\n",
      "$ 미세주입 후 저장된 배아 수       <f64> 2.0, 0.0, 0.0, 0.0, 0.0, 0.0, 3.0, 0.0, 0.0, 0.0\n",
      "$ 해동된 배아 수              <f64> 0.0, 0.0, 0.0, 0.0, 0.0, 0.0, 0.0, 0.0, 0.0, 0.0\n",
      "$ 해동 난자 수               <f64> 0.0, 0.0, 0.0, 0.0, 0.0, 0.0, 0.0, 0.0, 0.0, 0.0\n",
      "$ 수집된 신선 난자 수           <f64> 7.0, 1.0, 8.0, 5.0, 7.0, 5.0, 0.0, 15.0, 0.0, 2.0\n",
      "$ 저장된 신선 난자 수           <f64> 0.0, 0.0, 0.0, 0.0, 0.0, 0.0, 0.0, 0.0, 0.0, 0.0\n",
      "$ 혼합된 난자 수              <f64> 5.0, 1.0, 7.0, 4.0, 6.0, 5.0, 4.0, 15.0, 0.0, 2.0\n",
      "$ 파트너 정자와 혼합된 난자 수      <f64> 5.0, 1.0, 7.0, 4.0, 6.0, 5.0, 4.0, 15.0, 0.0, 2.0\n",
      "$ 기증자 정자와 혼합된 난자 수      <f64> 0.0, 0.0, 0.0, 0.0, 0.0, 0.0, 0.0, 0.0, 0.0, 0.0\n",
      "$ 난자 출처                 <str> '본인 제공', '본인 제공', '본인 제공', '본인 제공', '본인 제공', '본인 제공', '기증 제공', '본인 제공', '본인 제공', '본인 제공'\n",
      "$ 정자 출처                 <str> '배우자 제공', '배우자 제공', '배우자 제공', '배우자 제공', '배우자 제공', '배우자 제공', '배우자 제공', '배우자 제공', '배우자 제공', '배우자 제공'\n",
      "$ 난자 기증자 나이             <str> '알 수 없음', '알 수 없음', '알 수 없음', '알 수 없음', '알 수 없음', '알 수 없음', '만21-25세', '알 수 없음', '알 수 없음', '알 수 없음'\n",
      "$ 정자 기증자 나이             <str> '알 수 없음', '알 수 없음', '알 수 없음', '알 수 없음', '알 수 없음', '알 수 없음', '알 수 없음', '알 수 없음', '알 수 없음', '알 수 없음'\n",
      "$ 동결 배아 사용 여부           <f64> 0.0, 0.0, 0.0, 0.0, 0.0, 0.0, 0.0, 0.0, 0.0, 0.0\n",
      "$ 신선 배아 사용 여부           <f64> 1.0, 1.0, 1.0, 1.0, 1.0, 1.0, 1.0, 1.0, 1.0, 1.0\n",
      "$ 기증 배아 사용 여부           <f64> 0.0, 0.0, 0.0, 0.0, 0.0, 0.0, 0.0, 0.0, 0.0, 0.0\n",
      "$ 대리모 여부                <f64> 0.0, 0.0, 0.0, 0.0, 0.0, 0.0, 0.0, 0.0, 0.0, 0.0\n",
      "$ PGD 시술 여부             <str> None, None, None, None, None, None, None, None, None, None\n",
      "$ PGS 시술 여부             <str> None, None, None, None, None, None, None, None, None, None\n",
      "$ 난자 채취 경과일             <f64> 0.0, 0.0, 0.0, 0.0, 0.0, 0.0, None, 0.0, 0.0, 0.0\n",
      "$ 난자 해동 경과일             <str> None, None, None, None, None, None, None, None, None, None\n",
      "$ 난자 혼합 경과일             <f64> 0.0, 0.0, 0.0, 0.0, 0.0, 0.0, 0.0, 0.0, None, 0.0\n",
      "$ 배아 이식 경과일             <f64> 3.0, None, 2.0, None, 3.0, 3.0, 2.0, 5.0, None, 3.0\n",
      "$ 배아 해동 경과일             <f64> None, None, None, None, None, None, None, None, None, None\n",
      "$ 임신 성공 여부              <i64> 0, 0, 0, 0, 0, 0, 0, 0, 0, 0\n",
      "\n"
     ]
    }
   ],
   "source": [
    "df_train.glimpse()"
   ]
  },
  {
   "cell_type": "code",
   "execution_count": 25,
   "id": "3c3938fa-4922-4bfe-99c6-08afe7a39321",
   "metadata": {},
   "outputs": [
    {
     "data": {
      "text/html": [
       "<div><style>\n",
       ".dataframe > thead > tr,\n",
       ".dataframe > tbody > tr {\n",
       "  text-align: right;\n",
       "  white-space: pre-wrap;\n",
       "}\n",
       "</style>\n",
       "<small>shape: (9, 70)</small><table border=\"1\" class=\"dataframe\"><thead><tr><th>statistic</th><th>ID</th><th>시술 시기 코드</th><th>시술 당시 나이</th><th>임신 시도 또는 마지막 임신 경과 연수</th><th>시술 유형</th><th>특정 시술 유형</th><th>배란 자극 여부</th><th>배란 유도 유형</th><th>단일 배아 이식 여부</th><th>착상 전 유전 검사 사용 여부</th><th>착상 전 유전 진단 사용 여부</th><th>남성 주 불임 원인</th><th>남성 부 불임 원인</th><th>여성 주 불임 원인</th><th>여성 부 불임 원인</th><th>부부 주 불임 원인</th><th>부부 부 불임 원인</th><th>불명확 불임 원인</th><th>불임 원인 - 난관 질환</th><th>불임 원인 - 남성 요인</th><th>불임 원인 - 배란 장애</th><th>불임 원인 - 여성 요인</th><th>불임 원인 - 자궁경부 문제</th><th>불임 원인 - 자궁내막증</th><th>불임 원인 - 정자 농도</th><th>불임 원인 - 정자 면역학적 요인</th><th>불임 원인 - 정자 운동성</th><th>불임 원인 - 정자 형태</th><th>배아 생성 주요 이유</th><th>총 시술 횟수</th><th>클리닉 내 총 시술 횟수</th><th>IVF 시술 횟수</th><th>DI 시술 횟수</th><th>총 임신 횟수</th><th>IVF 임신 횟수</th><th>DI 임신 횟수</th><th>총 출산 횟수</th><th>IVF 출산 횟수</th><th>DI 출산 횟수</th><th>총 생성 배아 수</th><th>미세주입된 난자 수</th><th>미세주입에서 생성된 배아 수</th><th>이식된 배아 수</th><th>미세주입 배아 이식 수</th><th>저장된 배아 수</th><th>미세주입 후 저장된 배아 수</th><th>해동된 배아 수</th><th>해동 난자 수</th><th>수집된 신선 난자 수</th><th>저장된 신선 난자 수</th><th>혼합된 난자 수</th><th>파트너 정자와 혼합된 난자 수</th><th>기증자 정자와 혼합된 난자 수</th><th>난자 출처</th><th>정자 출처</th><th>난자 기증자 나이</th><th>정자 기증자 나이</th><th>동결 배아 사용 여부</th><th>신선 배아 사용 여부</th><th>기증 배아 사용 여부</th><th>대리모 여부</th><th>PGD 시술 여부</th><th>PGS 시술 여부</th><th>난자 채취 경과일</th><th>난자 해동 경과일</th><th>난자 혼합 경과일</th><th>배아 이식 경과일</th><th>배아 해동 경과일</th><th>임신 성공 여부</th></tr><tr><td>str</td><td>str</td><td>str</td><td>str</td><td>str</td><td>str</td><td>str</td><td>f64</td><td>str</td><td>f64</td><td>str</td><td>f64</td><td>f64</td><td>f64</td><td>f64</td><td>f64</td><td>f64</td><td>f64</td><td>f64</td><td>f64</td><td>f64</td><td>f64</td><td>f64</td><td>f64</td><td>f64</td><td>f64</td><td>f64</td><td>f64</td><td>f64</td><td>str</td><td>str</td><td>str</td><td>str</td><td>str</td><td>str</td><td>str</td><td>str</td><td>str</td><td>str</td><td>str</td><td>f64</td><td>f64</td><td>f64</td><td>f64</td><td>f64</td><td>f64</td><td>f64</td><td>f64</td><td>f64</td><td>f64</td><td>f64</td><td>f64</td><td>f64</td><td>f64</td><td>str</td><td>str</td><td>str</td><td>str</td><td>f64</td><td>f64</td><td>f64</td><td>f64</td><td>str</td><td>str</td><td>f64</td><td>str</td><td>f64</td><td>f64</td><td>f64</td><td>f64</td></tr></thead><tbody><tr><td>&quot;count&quot;</td><td>&quot;3190&quot;</td><td>&quot;3190&quot;</td><td>&quot;3190&quot;</td><td>&quot;123&quot;</td><td>&quot;3190&quot;</td><td>&quot;3190&quot;</td><td>3190.0</td><td>&quot;3190&quot;</td><td>3110.0</td><td>&quot;42&quot;</td><td>3110.0</td><td>3190.0</td><td>3190.0</td><td>3190.0</td><td>3190.0</td><td>3190.0</td><td>3190.0</td><td>3190.0</td><td>3190.0</td><td>3190.0</td><td>3190.0</td><td>3190.0</td><td>3190.0</td><td>3190.0</td><td>3190.0</td><td>3190.0</td><td>3190.0</td><td>3190.0</td><td>&quot;3110&quot;</td><td>&quot;3190&quot;</td><td>&quot;3190&quot;</td><td>&quot;3190&quot;</td><td>&quot;3190&quot;</td><td>&quot;3190&quot;</td><td>&quot;3190&quot;</td><td>&quot;3190&quot;</td><td>&quot;3190&quot;</td><td>&quot;3190&quot;</td><td>&quot;3190&quot;</td><td>3110.0</td><td>3110.0</td><td>3110.0</td><td>3110.0</td><td>3110.0</td><td>3110.0</td><td>3110.0</td><td>3110.0</td><td>3110.0</td><td>3110.0</td><td>3110.0</td><td>3110.0</td><td>3110.0</td><td>3110.0</td><td>&quot;3190&quot;</td><td>&quot;3190&quot;</td><td>&quot;3190&quot;</td><td>&quot;3190&quot;</td><td>3109.0</td><td>3109.0</td><td>3109.0</td><td>3109.0</td><td>&quot;23&quot;</td><td>&quot;33&quot;</td><td>2481.0</td><td>&quot;19&quot;</td><td>2535.0</td><td>2642.0</td><td>478.0</td><td>3189.0</td></tr><tr><td>&quot;null_count&quot;</td><td>&quot;0&quot;</td><td>&quot;0&quot;</td><td>&quot;0&quot;</td><td>&quot;3067&quot;</td><td>&quot;0&quot;</td><td>&quot;0&quot;</td><td>0.0</td><td>&quot;0&quot;</td><td>80.0</td><td>&quot;3148&quot;</td><td>80.0</td><td>0.0</td><td>0.0</td><td>0.0</td><td>0.0</td><td>0.0</td><td>0.0</td><td>0.0</td><td>0.0</td><td>0.0</td><td>0.0</td><td>0.0</td><td>0.0</td><td>0.0</td><td>0.0</td><td>0.0</td><td>0.0</td><td>0.0</td><td>&quot;80&quot;</td><td>&quot;0&quot;</td><td>&quot;0&quot;</td><td>&quot;0&quot;</td><td>&quot;0&quot;</td><td>&quot;0&quot;</td><td>&quot;0&quot;</td><td>&quot;0&quot;</td><td>&quot;0&quot;</td><td>&quot;0&quot;</td><td>&quot;0&quot;</td><td>80.0</td><td>80.0</td><td>80.0</td><td>80.0</td><td>80.0</td><td>80.0</td><td>80.0</td><td>80.0</td><td>80.0</td><td>80.0</td><td>80.0</td><td>80.0</td><td>80.0</td><td>80.0</td><td>&quot;0&quot;</td><td>&quot;0&quot;</td><td>&quot;0&quot;</td><td>&quot;0&quot;</td><td>81.0</td><td>81.0</td><td>81.0</td><td>81.0</td><td>&quot;3167&quot;</td><td>&quot;3157&quot;</td><td>709.0</td><td>&quot;3171&quot;</td><td>655.0</td><td>548.0</td><td>2712.0</td><td>1.0</td></tr><tr><td>&quot;mean&quot;</td><td>null</td><td>null</td><td>null</td><td>null</td><td>null</td><td>null</td><td>0.776176</td><td>null</td><td>0.229904</td><td>null</td><td>0.010611</td><td>0.028527</td><td>0.013166</td><td>0.032602</td><td>0.010972</td><td>0.034796</td><td>0.00721</td><td>0.253292</td><td>0.145455</td><td>0.369279</td><td>0.145768</td><td>0.0</td><td>0.0</td><td>0.072414</td><td>0.001254</td><td>0.0</td><td>0.000313</td><td>0.000313</td><td>null</td><td>null</td><td>null</td><td>null</td><td>null</td><td>null</td><td>null</td><td>null</td><td>null</td><td>null</td><td>null</td><td>5.140193</td><td>4.132154</td><td>2.82283</td><td>1.376527</td><td>0.718971</td><td>1.178778</td><td>0.609968</td><td>0.447267</td><td>0.044373</td><td>8.531511</td><td>0.07717</td><td>7.747588</td><td>7.178457</td><td>0.546945</td><td>null</td><td>null</td><td>null</td><td>null</td><td>0.153104</td><td>0.847861</td><td>0.010614</td><td>0.004825</td><td>null</td><td>null</td><td>0.0</td><td>null</td><td>0.003945</td><td>3.258138</td><td>0.031381</td><td>0.248667</td></tr><tr><td>&quot;std&quot;</td><td>null</td><td>null</td><td>null</td><td>null</td><td>null</td><td>null</td><td>0.416871</td><td>null</td><td>0.420838</td><td>null</td><td>0.102478</td><td>0.166498</td><td>0.114004</td><td>0.17762</td><td>0.104186</td><td>0.183292</td><td>0.084619</td><td>0.434965</td><td>0.352614</td><td>0.482685</td><td>0.352929</td><td>0.0</td><td>0.0</td><td>0.259212</td><td>0.035394</td><td>0.0</td><td>0.017705</td><td>0.017705</td><td>null</td><td>null</td><td>null</td><td>null</td><td>null</td><td>null</td><td>null</td><td>null</td><td>null</td><td>null</td><td>null</td><td>4.717523</td><td>5.606213</td><td>4.092269</td><td>0.778053</td><td>0.900731</td><td>2.426971</td><td>1.802565</td><td>1.38791</td><td>0.628956</td><td>7.246175</td><td>0.828776</td><td>6.43119</td><td>6.531216</td><td>2.560094</td><td>null</td><td>null</td><td>null</td><td>null</td><td>0.360146</td><td>0.359213</td><td>0.102494</td><td>0.069303</td><td>null</td><td>null</td><td>0.0</td><td>null</td><td>0.088753</td><td>1.695033</td><td>0.325471</td><td>0.432308</td></tr><tr><td>&quot;min&quot;</td><td>&quot;TRAIN_000000&quot;</td><td>&quot;TRCMWS&quot;</td><td>&quot;만18-34세&quot;</td><td>&quot;10.0&quot;</td><td>&quot;DI&quot;</td><td>&quot;ICSI&quot;</td><td>0.0</td><td>&quot;기록되지 않은 시행&quot;</td><td>0.0</td><td>&quot;1.0&quot;</td><td>0.0</td><td>0.0</td><td>0.0</td><td>0.0</td><td>0.0</td><td>0.0</td><td>0.0</td><td>0.0</td><td>0.0</td><td>0.0</td><td>0.0</td><td>0.0</td><td>0.0</td><td>0.0</td><td>0.0</td><td>0.0</td><td>0.0</td><td>0.0</td><td>&quot;기증용&quot;</td><td>&quot;0회&quot;</td><td>&quot;0회&quot;</td><td>&quot;0회&quot;</td><td>&quot;0회&quot;</td><td>&quot;0회&quot;</td><td>&quot;0회&quot;</td><td>&quot;0회&quot;</td><td>&quot;0회&quot;</td><td>&quot;0회&quot;</td><td>&quot;0회&quot;</td><td>0.0</td><td>0.0</td><td>0.0</td><td>0.0</td><td>0.0</td><td>0.0</td><td>0.0</td><td>0.0</td><td>0.0</td><td>0.0</td><td>0.0</td><td>0.0</td><td>0.0</td><td>0.0</td><td>&quot;기증 제공&quot;</td><td>&quot;기증 제공&quot;</td><td>&quot;만20세 이하&quot;</td><td>&quot;만20세 이하&quot;</td><td>0.0</td><td>0.0</td><td>0.0</td><td>0.0</td><td>&quot;1.0&quot;</td><td>&quot;1.0&quot;</td><td>0.0</td><td>&quot;0.0&quot;</td><td>0.0</td><td>0.0</td><td>0.0</td><td>0.0</td></tr><tr><td>&quot;25%&quot;</td><td>null</td><td>null</td><td>null</td><td>null</td><td>null</td><td>null</td><td>1.0</td><td>null</td><td>0.0</td><td>null</td><td>0.0</td><td>0.0</td><td>0.0</td><td>0.0</td><td>0.0</td><td>0.0</td><td>0.0</td><td>0.0</td><td>0.0</td><td>0.0</td><td>0.0</td><td>0.0</td><td>0.0</td><td>0.0</td><td>0.0</td><td>0.0</td><td>0.0</td><td>0.0</td><td>null</td><td>null</td><td>null</td><td>null</td><td>null</td><td>null</td><td>null</td><td>null</td><td>null</td><td>null</td><td>null</td><td>1.0</td><td>0.0</td><td>0.0</td><td>1.0</td><td>0.0</td><td>0.0</td><td>0.0</td><td>0.0</td><td>0.0</td><td>2.0</td><td>0.0</td><td>3.0</td><td>1.0</td><td>0.0</td><td>null</td><td>null</td><td>null</td><td>null</td><td>0.0</td><td>1.0</td><td>0.0</td><td>0.0</td><td>null</td><td>null</td><td>0.0</td><td>null</td><td>0.0</td><td>2.0</td><td>0.0</td><td>0.0</td></tr><tr><td>&quot;50%&quot;</td><td>null</td><td>null</td><td>null</td><td>null</td><td>null</td><td>null</td><td>1.0</td><td>null</td><td>0.0</td><td>null</td><td>0.0</td><td>0.0</td><td>0.0</td><td>0.0</td><td>0.0</td><td>0.0</td><td>0.0</td><td>0.0</td><td>0.0</td><td>0.0</td><td>0.0</td><td>0.0</td><td>0.0</td><td>0.0</td><td>0.0</td><td>0.0</td><td>0.0</td><td>0.0</td><td>null</td><td>null</td><td>null</td><td>null</td><td>null</td><td>null</td><td>null</td><td>null</td><td>null</td><td>null</td><td>null</td><td>4.0</td><td>0.0</td><td>0.0</td><td>1.0</td><td>0.0</td><td>0.0</td><td>0.0</td><td>0.0</td><td>0.0</td><td>8.0</td><td>0.0</td><td>7.0</td><td>6.0</td><td>0.0</td><td>null</td><td>null</td><td>null</td><td>null</td><td>0.0</td><td>1.0</td><td>0.0</td><td>0.0</td><td>null</td><td>null</td><td>0.0</td><td>null</td><td>0.0</td><td>3.0</td><td>0.0</td><td>0.0</td></tr><tr><td>&quot;75%&quot;</td><td>null</td><td>null</td><td>null</td><td>null</td><td>null</td><td>null</td><td>1.0</td><td>null</td><td>0.0</td><td>null</td><td>0.0</td><td>0.0</td><td>0.0</td><td>0.0</td><td>0.0</td><td>0.0</td><td>0.0</td><td>1.0</td><td>0.0</td><td>1.0</td><td>0.0</td><td>0.0</td><td>0.0</td><td>0.0</td><td>0.0</td><td>0.0</td><td>0.0</td><td>0.0</td><td>null</td><td>null</td><td>null</td><td>null</td><td>null</td><td>null</td><td>null</td><td>null</td><td>null</td><td>null</td><td>null</td><td>8.0</td><td>7.0</td><td>5.0</td><td>2.0</td><td>2.0</td><td>2.0</td><td>0.0</td><td>0.0</td><td>0.0</td><td>13.0</td><td>0.0</td><td>11.0</td><td>11.0</td><td>0.0</td><td>null</td><td>null</td><td>null</td><td>null</td><td>0.0</td><td>1.0</td><td>0.0</td><td>0.0</td><td>null</td><td>null</td><td>0.0</td><td>null</td><td>0.0</td><td>5.0</td><td>0.0</td><td>0.0</td></tr><tr><td>&quot;max&quot;</td><td>&quot;TRAIN_003189&quot;</td><td>&quot;TRZKPL&quot;</td><td>&quot;알 수 없음&quot;</td><td>&quot;9.0&quot;</td><td>&quot;IVF&quot;</td><td>&quot;Unknown&quot;</td><td>1.0</td><td>&quot;알 수 없음&quot;</td><td>1.0</td><td>&quot;1.0&quot;</td><td>1.0</td><td>1.0</td><td>1.0</td><td>1.0</td><td>1.0</td><td>1.0</td><td>1.0</td><td>1.0</td><td>1.0</td><td>1.0</td><td>1.0</td><td>0.0</td><td>0.0</td><td>1.0</td><td>1.0</td><td>0.0</td><td>1.0</td><td>1.0</td><td>&quot;현재 시술용&quot;</td><td>&quot;6회 이상&quot;</td><td>&quot;6회 이상&quot;</td><td>&quot;6회 이상&quot;</td><td>&quot;6회 이상&quot;</td><td>&quot;3회&quot;</td><td>&quot;3회&quot;</td><td>&quot;3회&quot;</td><td>&quot;3회&quot;</td><td>&quot;3회&quot;</td><td>&quot;2회&quot;</td><td>34.0</td><td>37.0</td><td>26.0</td><td>3.0</td><td>3.0</td><td>21.0</td><td>21.0</td><td>17.0</td><td>15.0</td><td>51.0</td><td>16.0</td><td>51.0</td><td>51.0</td><td>31.0</td><td>&quot;알 수 없음&quot;</td><td>&quot;배우자 제공&quot;</td><td>&quot;알 수 없음&quot;</td><td>&quot;알 수 없음&quot;</td><td>1.0</td><td>1.0</td><td>1.0</td><td>1.0</td><td>&quot;1.0&quot;</td><td>&quot;1.0&quot;</td><td>0.0</td><td>&quot;0.0&quot;</td><td>3.0</td><td>7.0</td><td>5.0</td><td>1.0</td></tr></tbody></table></div>"
      ],
      "text/plain": [
       "shape: (9, 70)\n",
       "┌───────────┬───────────┬───────────┬───────────┬───┬───────────┬───────────┬───────────┬──────────┐\n",
       "│ statistic ┆ ID        ┆ 시술 시기 ┆ 시술 당시 ┆ … ┆ 난자 혼합 ┆ 배아 이식 ┆ 배아 해동 ┆ 임신     │\n",
       "│ ---       ┆ ---       ┆ 코드      ┆ 나이      ┆   ┆ 경과일    ┆ 경과일    ┆ 경과일    ┆ 성공     │\n",
       "│ str       ┆ str       ┆ ---       ┆ ---       ┆   ┆ ---       ┆ ---       ┆ ---       ┆ 여부     │\n",
       "│           ┆           ┆ str       ┆ str       ┆   ┆ f64       ┆ f64       ┆ f64       ┆ ---      │\n",
       "│           ┆           ┆           ┆           ┆   ┆           ┆           ┆           ┆ f64      │\n",
       "╞═══════════╪═══════════╪═══════════╪═══════════╪═══╪═══════════╪═══════════╪═══════════╪══════════╡\n",
       "│ count     ┆ 3190      ┆ 3190      ┆ 3190      ┆ … ┆ 2535.0    ┆ 2642.0    ┆ 478.0     ┆ 3189.0   │\n",
       "│ null_coun ┆ 0         ┆ 0         ┆ 0         ┆ … ┆ 655.0     ┆ 548.0     ┆ 2712.0    ┆ 1.0      │\n",
       "│ t         ┆           ┆           ┆           ┆   ┆           ┆           ┆           ┆          │\n",
       "│ mean      ┆ null      ┆ null      ┆ null      ┆ … ┆ 0.003945  ┆ 3.258138  ┆ 0.031381  ┆ 0.248667 │\n",
       "│ std       ┆ null      ┆ null      ┆ null      ┆ … ┆ 0.088753  ┆ 1.695033  ┆ 0.325471  ┆ 0.432308 │\n",
       "│ min       ┆ TRAIN_000 ┆ TRCMWS    ┆ 만18-34세 ┆ … ┆ 0.0       ┆ 0.0       ┆ 0.0       ┆ 0.0      │\n",
       "│           ┆ 000       ┆           ┆           ┆   ┆           ┆           ┆           ┆          │\n",
       "│ 25%       ┆ null      ┆ null      ┆ null      ┆ … ┆ 0.0       ┆ 2.0       ┆ 0.0       ┆ 0.0      │\n",
       "│ 50%       ┆ null      ┆ null      ┆ null      ┆ … ┆ 0.0       ┆ 3.0       ┆ 0.0       ┆ 0.0      │\n",
       "│ 75%       ┆ null      ┆ null      ┆ null      ┆ … ┆ 0.0       ┆ 5.0       ┆ 0.0       ┆ 0.0      │\n",
       "│ max       ┆ TRAIN_003 ┆ TRZKPL    ┆ 알 수     ┆ … ┆ 3.0       ┆ 7.0       ┆ 5.0       ┆ 1.0      │\n",
       "│           ┆ 189       ┆           ┆ 없음      ┆   ┆           ┆           ┆           ┆          │\n",
       "└───────────┴───────────┴───────────┴───────────┴───┴───────────┴───────────┴───────────┴──────────┘"
      ]
     },
     "execution_count": 25,
     "metadata": {},
     "output_type": "execute_result"
    }
   ],
   "source": [
    "df_train.describe()"
   ]
  },
  {
   "cell_type": "code",
   "execution_count": 26,
   "id": "92c47749-86ae-4b6a-b9a2-03ed8c719220",
   "metadata": {},
   "outputs": [
    {
     "data": {
      "text/html": [
       "<div><style>\n",
       ".dataframe > thead > tr,\n",
       ".dataframe > tbody > tr {\n",
       "  text-align: right;\n",
       "  white-space: pre-wrap;\n",
       "}\n",
       "</style>\n",
       "<small>shape: (1, 69)</small><table border=\"1\" class=\"dataframe\"><thead><tr><th>ID</th><th>시술 시기 코드</th><th>시술 당시 나이</th><th>임신 시도 또는 마지막 임신 경과 연수</th><th>시술 유형</th><th>특정 시술 유형</th><th>배란 자극 여부</th><th>배란 유도 유형</th><th>단일 배아 이식 여부</th><th>착상 전 유전 검사 사용 여부</th><th>착상 전 유전 진단 사용 여부</th><th>남성 주 불임 원인</th><th>남성 부 불임 원인</th><th>여성 주 불임 원인</th><th>여성 부 불임 원인</th><th>부부 주 불임 원인</th><th>부부 부 불임 원인</th><th>불명확 불임 원인</th><th>불임 원인 - 난관 질환</th><th>불임 원인 - 남성 요인</th><th>불임 원인 - 배란 장애</th><th>불임 원인 - 여성 요인</th><th>불임 원인 - 자궁경부 문제</th><th>불임 원인 - 자궁내막증</th><th>불임 원인 - 정자 농도</th><th>불임 원인 - 정자 면역학적 요인</th><th>불임 원인 - 정자 운동성</th><th>불임 원인 - 정자 형태</th><th>배아 생성 주요 이유</th><th>총 시술 횟수</th><th>클리닉 내 총 시술 횟수</th><th>IVF 시술 횟수</th><th>DI 시술 횟수</th><th>총 임신 횟수</th><th>IVF 임신 횟수</th><th>DI 임신 횟수</th><th>총 출산 횟수</th><th>IVF 출산 횟수</th><th>DI 출산 횟수</th><th>총 생성 배아 수</th><th>미세주입된 난자 수</th><th>미세주입에서 생성된 배아 수</th><th>이식된 배아 수</th><th>미세주입 배아 이식 수</th><th>저장된 배아 수</th><th>미세주입 후 저장된 배아 수</th><th>해동된 배아 수</th><th>해동 난자 수</th><th>수집된 신선 난자 수</th><th>저장된 신선 난자 수</th><th>혼합된 난자 수</th><th>파트너 정자와 혼합된 난자 수</th><th>기증자 정자와 혼합된 난자 수</th><th>난자 출처</th><th>정자 출처</th><th>난자 기증자 나이</th><th>정자 기증자 나이</th><th>동결 배아 사용 여부</th><th>신선 배아 사용 여부</th><th>기증 배아 사용 여부</th><th>대리모 여부</th><th>PGD 시술 여부</th><th>PGS 시술 여부</th><th>난자 채취 경과일</th><th>난자 해동 경과일</th><th>난자 혼합 경과일</th><th>배아 이식 경과일</th><th>배아 해동 경과일</th><th>임신 성공 여부</th></tr><tr><td>u32</td><td>u32</td><td>u32</td><td>u32</td><td>u32</td><td>u32</td><td>u32</td><td>u32</td><td>u32</td><td>u32</td><td>u32</td><td>u32</td><td>u32</td><td>u32</td><td>u32</td><td>u32</td><td>u32</td><td>u32</td><td>u32</td><td>u32</td><td>u32</td><td>u32</td><td>u32</td><td>u32</td><td>u32</td><td>u32</td><td>u32</td><td>u32</td><td>u32</td><td>u32</td><td>u32</td><td>u32</td><td>u32</td><td>u32</td><td>u32</td><td>u32</td><td>u32</td><td>u32</td><td>u32</td><td>u32</td><td>u32</td><td>u32</td><td>u32</td><td>u32</td><td>u32</td><td>u32</td><td>u32</td><td>u32</td><td>u32</td><td>u32</td><td>u32</td><td>u32</td><td>u32</td><td>u32</td><td>u32</td><td>u32</td><td>u32</td><td>u32</td><td>u32</td><td>u32</td><td>u32</td><td>u32</td><td>u32</td><td>u32</td><td>u32</td><td>u32</td><td>u32</td><td>u32</td><td>u32</td></tr></thead><tbody><tr><td>0</td><td>0</td><td>0</td><td>3067</td><td>0</td><td>0</td><td>0</td><td>0</td><td>80</td><td>3148</td><td>80</td><td>0</td><td>0</td><td>0</td><td>0</td><td>0</td><td>0</td><td>0</td><td>0</td><td>0</td><td>0</td><td>0</td><td>0</td><td>0</td><td>0</td><td>0</td><td>0</td><td>0</td><td>80</td><td>0</td><td>0</td><td>0</td><td>0</td><td>0</td><td>0</td><td>0</td><td>0</td><td>0</td><td>0</td><td>80</td><td>80</td><td>80</td><td>80</td><td>80</td><td>80</td><td>80</td><td>80</td><td>80</td><td>80</td><td>80</td><td>80</td><td>80</td><td>80</td><td>0</td><td>0</td><td>0</td><td>0</td><td>81</td><td>81</td><td>81</td><td>81</td><td>3167</td><td>3157</td><td>709</td><td>3171</td><td>655</td><td>548</td><td>2712</td><td>1</td></tr></tbody></table></div>"
      ],
      "text/plain": [
       "shape: (1, 69)\n",
       "┌─────┬────────────┬────────────┬────────────┬───┬────────────┬────────────┬───────────┬───────────┐\n",
       "│ ID  ┆ 시술 시기  ┆ 시술 당시  ┆ 임신 시도  ┆ … ┆ 난자 혼합  ┆ 배아 이식  ┆ 배아 해동 ┆ 임신 성공 │\n",
       "│ --- ┆ 코드       ┆ 나이       ┆ 또는       ┆   ┆ 경과일     ┆ 경과일     ┆ 경과일    ┆ 여부      │\n",
       "│ u32 ┆ ---        ┆ ---        ┆ 마지막     ┆   ┆ ---        ┆ ---        ┆ ---       ┆ ---       │\n",
       "│     ┆ u32        ┆ u32        ┆ 임신 경과  ┆   ┆ u32        ┆ u32        ┆ u32       ┆ u32       │\n",
       "│     ┆            ┆            ┆ 연수       ┆   ┆            ┆            ┆           ┆           │\n",
       "│     ┆            ┆            ┆ ---        ┆   ┆            ┆            ┆           ┆           │\n",
       "│     ┆            ┆            ┆ u32        ┆   ┆            ┆            ┆           ┆           │\n",
       "╞═════╪════════════╪════════════╪════════════╪═══╪════════════╪════════════╪═══════════╪═══════════╡\n",
       "│ 0   ┆ 0          ┆ 0          ┆ 3067       ┆ … ┆ 655        ┆ 548        ┆ 2712      ┆ 1         │\n",
       "└─────┴────────────┴────────────┴────────────┴───┴────────────┴────────────┴───────────┴───────────┘"
      ]
     },
     "execution_count": 26,
     "metadata": {},
     "output_type": "execute_result"
    }
   ],
   "source": [
    "df_train.null_count()"
   ]
  },
  {
   "cell_type": "code",
   "execution_count": 29,
   "id": "c50778b4-9c31-4e2b-861a-8b75342b8580",
   "metadata": {},
   "outputs": [
    {
     "ename": "ColumnNotFoundError",
     "evalue": "임신성공여부\n\nResolved plan until failure:\n\n\t---> FAILED HERE RESOLVING 'group_by' <---\nDF [\"ID\", \"시술 시기 코드\", \"시술 당시 나이\", \"임신 시도 또는 마지막 임신 경과 연수\"]; PROJECT */69 COLUMNS",
     "output_type": "error",
     "traceback": [
      "\u001b[0;31m---------------------------------------------------------------------------\u001b[0m",
      "\u001b[0;31mColumnNotFoundError\u001b[0m                       Traceback (most recent call last)",
      "Cell \u001b[0;32mIn[29], line 1\u001b[0m\n\u001b[0;32m----> 1\u001b[0m counts \u001b[38;5;241m=\u001b[39m \u001b[43mdf_train\u001b[49m\u001b[38;5;241;43m.\u001b[39;49m\u001b[43mgroup_by\u001b[49m\u001b[43m(\u001b[49m\u001b[38;5;124;43m'\u001b[39;49m\u001b[38;5;124;43m임신성공여부\u001b[39;49m\u001b[38;5;124;43m'\u001b[39;49m\u001b[43m)\u001b[49m\u001b[38;5;241;43m.\u001b[39;49m\u001b[43mlen\u001b[49m\u001b[43m(\u001b[49m\u001b[43m)\u001b[49m\n\u001b[1;32m      2\u001b[0m \u001b[38;5;66;03m# 막대그래프 생성\u001b[39;00m\n\u001b[1;32m      3\u001b[0m fig \u001b[38;5;241m=\u001b[39m go\u001b[38;5;241m.\u001b[39mFigure(go\u001b[38;5;241m.\u001b[39mBar(x\u001b[38;5;241m=\u001b[39mcounts[\u001b[38;5;124m'\u001b[39m\u001b[38;5;124mtarget\u001b[39m\u001b[38;5;124m'\u001b[39m]\u001b[38;5;241m.\u001b[39mto_list(), y\u001b[38;5;241m=\u001b[39mcounts[\u001b[38;5;124m'\u001b[39m\u001b[38;5;124mlen\u001b[39m\u001b[38;5;124m'\u001b[39m]\u001b[38;5;241m.\u001b[39mto_list(), text\u001b[38;5;241m=\u001b[39mcounts[\u001b[38;5;124m'\u001b[39m\u001b[38;5;124mlen\u001b[39m\u001b[38;5;124m'\u001b[39m]\u001b[38;5;241m.\u001b[39mto_list(), textposition\u001b[38;5;241m=\u001b[39m\u001b[38;5;124m'\u001b[39m\u001b[38;5;124mauto\u001b[39m\u001b[38;5;124m'\u001b[39m))\n",
      "File \u001b[0;32m~/.local/lib/python3.10/site-packages/polars/dataframe/group_by.py:469\u001b[0m, in \u001b[0;36mGroupBy.len\u001b[0;34m(self, name)\u001b[0m\n\u001b[1;32m    467\u001b[0m \u001b[38;5;28;01mif\u001b[39;00m name \u001b[38;5;129;01mis\u001b[39;00m \u001b[38;5;129;01mnot\u001b[39;00m \u001b[38;5;28;01mNone\u001b[39;00m:\n\u001b[1;32m    468\u001b[0m     len_expr \u001b[38;5;241m=\u001b[39m len_expr\u001b[38;5;241m.\u001b[39malias(name)\n\u001b[0;32m--> 469\u001b[0m \u001b[38;5;28;01mreturn\u001b[39;00m \u001b[38;5;28;43mself\u001b[39;49m\u001b[38;5;241;43m.\u001b[39;49m\u001b[43magg\u001b[49m\u001b[43m(\u001b[49m\u001b[43mlen_expr\u001b[49m\u001b[43m)\u001b[49m\n",
      "File \u001b[0;32m~/.local/lib/python3.10/site-packages/polars/dataframe/group_by.py:229\u001b[0m, in \u001b[0;36mGroupBy.agg\u001b[0;34m(self, *aggs, **named_aggs)\u001b[0m\n\u001b[1;32m    123\u001b[0m \u001b[38;5;28;01mdef\u001b[39;00m \u001b[38;5;21magg\u001b[39m(\n\u001b[1;32m    124\u001b[0m     \u001b[38;5;28mself\u001b[39m,\n\u001b[1;32m    125\u001b[0m     \u001b[38;5;241m*\u001b[39maggs: IntoExpr \u001b[38;5;241m|\u001b[39m Iterable[IntoExpr],\n\u001b[1;32m    126\u001b[0m     \u001b[38;5;241m*\u001b[39m\u001b[38;5;241m*\u001b[39mnamed_aggs: IntoExpr,\n\u001b[1;32m    127\u001b[0m ) \u001b[38;5;241m-\u001b[39m\u001b[38;5;241m>\u001b[39m DataFrame:\n\u001b[1;32m    128\u001b[0m \u001b[38;5;250m    \u001b[39m\u001b[38;5;124;03m\"\"\"\u001b[39;00m\n\u001b[1;32m    129\u001b[0m \u001b[38;5;124;03m    Compute aggregations for each group of a group by operation.\u001b[39;00m\n\u001b[1;32m    130\u001b[0m \n\u001b[0;32m   (...)\u001b[0m\n\u001b[1;32m    226\u001b[0m \u001b[38;5;124;03m    └─────┴───────┴────────────────┘\u001b[39;00m\n\u001b[1;32m    227\u001b[0m \u001b[38;5;124;03m    \"\"\"\u001b[39;00m\n\u001b[1;32m    228\u001b[0m     \u001b[38;5;28;01mreturn\u001b[39;00m (\n\u001b[0;32m--> 229\u001b[0m         \u001b[38;5;28;43mself\u001b[39;49m\u001b[38;5;241;43m.\u001b[39;49m\u001b[43mdf\u001b[49m\u001b[38;5;241;43m.\u001b[39;49m\u001b[43mlazy\u001b[49m\u001b[43m(\u001b[49m\u001b[43m)\u001b[49m\n\u001b[1;32m    230\u001b[0m \u001b[43m        \u001b[49m\u001b[38;5;241;43m.\u001b[39;49m\u001b[43mgroup_by\u001b[49m\u001b[43m(\u001b[49m\u001b[38;5;241;43m*\u001b[39;49m\u001b[38;5;28;43mself\u001b[39;49m\u001b[38;5;241;43m.\u001b[39;49m\u001b[43mby\u001b[49m\u001b[43m,\u001b[49m\u001b[43m \u001b[49m\u001b[38;5;241;43m*\u001b[39;49m\u001b[38;5;241;43m*\u001b[39;49m\u001b[38;5;28;43mself\u001b[39;49m\u001b[38;5;241;43m.\u001b[39;49m\u001b[43mnamed_by\u001b[49m\u001b[43m,\u001b[49m\u001b[43m \u001b[49m\u001b[43mmaintain_order\u001b[49m\u001b[38;5;241;43m=\u001b[39;49m\u001b[38;5;28;43mself\u001b[39;49m\u001b[38;5;241;43m.\u001b[39;49m\u001b[43mmaintain_order\u001b[49m\u001b[43m)\u001b[49m\n\u001b[1;32m    231\u001b[0m \u001b[43m        \u001b[49m\u001b[38;5;241;43m.\u001b[39;49m\u001b[43magg\u001b[49m\u001b[43m(\u001b[49m\u001b[38;5;241;43m*\u001b[39;49m\u001b[43maggs\u001b[49m\u001b[43m,\u001b[49m\u001b[43m \u001b[49m\u001b[38;5;241;43m*\u001b[39;49m\u001b[38;5;241;43m*\u001b[39;49m\u001b[43mnamed_aggs\u001b[49m\u001b[43m)\u001b[49m\n\u001b[1;32m    232\u001b[0m \u001b[43m        \u001b[49m\u001b[38;5;241;43m.\u001b[39;49m\u001b[43mcollect\u001b[49m\u001b[43m(\u001b[49m\u001b[43mno_optimization\u001b[49m\u001b[38;5;241;43m=\u001b[39;49m\u001b[38;5;28;43;01mTrue\u001b[39;49;00m\u001b[43m)\u001b[49m\n\u001b[1;32m    233\u001b[0m     )\n",
      "File \u001b[0;32m~/.local/lib/python3.10/site-packages/polars/lazyframe/frame.py:2056\u001b[0m, in \u001b[0;36mLazyFrame.collect\u001b[0;34m(self, type_coercion, _type_check, predicate_pushdown, projection_pushdown, simplify_expression, slice_pushdown, comm_subplan_elim, comm_subexpr_elim, cluster_with_columns, collapse_joins, no_optimization, streaming, engine, background, _check_order, _eager, **_kwargs)\u001b[0m\n\u001b[1;32m   2054\u001b[0m \u001b[38;5;66;03m# Only for testing purposes\u001b[39;00m\n\u001b[1;32m   2055\u001b[0m callback \u001b[38;5;241m=\u001b[39m _kwargs\u001b[38;5;241m.\u001b[39mget(\u001b[38;5;124m\"\u001b[39m\u001b[38;5;124mpost_opt_callback\u001b[39m\u001b[38;5;124m\"\u001b[39m, callback)\n\u001b[0;32m-> 2056\u001b[0m \u001b[38;5;28;01mreturn\u001b[39;00m wrap_df(\u001b[43mldf\u001b[49m\u001b[38;5;241;43m.\u001b[39;49m\u001b[43mcollect\u001b[49m\u001b[43m(\u001b[49m\u001b[43mcallback\u001b[49m\u001b[43m)\u001b[49m)\n",
      "\u001b[0;31mColumnNotFoundError\u001b[0m: 임신성공여부\n\nResolved plan until failure:\n\n\t---> FAILED HERE RESOLVING 'group_by' <---\nDF [\"ID\", \"시술 시기 코드\", \"시술 당시 나이\", \"임신 시도 또는 마지막 임신 경과 연수\"]; PROJECT */69 COLUMNS"
     ]
    }
   ],
   "source": [
    "counts = df_train.group_by('임신성공여부').len()\n",
    "# 막대그래프 생성\n",
    "fig = go.Figure(go.Bar(x=counts['target'].to_list(), y=counts['len'].to_list(), text=counts['len'].to_list(), textposition='auto'))"
   ]
  },
  {
   "cell_type": "code",
   "execution_count": null,
   "id": "ac0b6083-bd59-4339-94a2-ac7b8145b5a8",
   "metadata": {},
   "outputs": [],
   "source": []
  },
  {
   "cell_type": "code",
   "execution_count": null,
   "id": "22f349ef-d682-47ff-a06c-67ca342bae5b",
   "metadata": {},
   "outputs": [],
   "source": []
  }
 ],
 "metadata": {
  "kernelspec": {
   "display_name": "Python 3 (ipykernel)",
   "language": "python",
   "name": "python3"
  },
  "language_info": {
   "codemirror_mode": {
    "name": "ipython",
    "version": 3
   },
   "file_extension": ".py",
   "mimetype": "text/x-python",
   "name": "python",
   "nbconvert_exporter": "python",
   "pygments_lexer": "ipython3",
   "version": "3.10.12"
  }
 },
 "nbformat": 4,
 "nbformat_minor": 5
}
